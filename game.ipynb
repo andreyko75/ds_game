{
 "cells": [
  {
   "cell_type": "code",
   "execution_count": 12,
   "metadata": {},
   "outputs": [
    {
     "name": "stdout",
     "output_type": "stream",
     "text": [
      "Ваш алгоритм угадывает число в среднем за:5 попыток\n"
     ]
    }
   ],
   "source": [
    "\"\"\"Guess the number game\n",
    "The computer itself guesses and itself guesses the number in the minimum number of moves\n",
    "\"\"\"\n",
    "\n",
    "import numpy as np\n",
    "\n",
    "\n",
    "def random_predict(number: int = 1) -> int:\n",
    "    \"\"\"Guess the number\n",
    "\n",
    "    Args:\n",
    "        number (int, optional): Guess number. Defaults to 1.\n",
    "\n",
    "    Returns:\n",
    "        int: Number of attempts\n",
    "    \"\"\"\n",
    "    count = 0\n",
    "    min_num, max_num = 1, 101\n",
    "    while True:\n",
    "        count += 1\n",
    "        predict_number = (min_num + max_num) // 2  # Estimated number, half method\n",
    "        if number == predict_number:\n",
    "            break  # Exit from the loop if the number is guessed\n",
    "        if predict_number < number:\n",
    "            min_num = predict_number\n",
    "        else:\n",
    "            max_num = predict_number\n",
    "\n",
    "    return count\n",
    "\n",
    "\n",
    "def score_game(rand_predict) -> int:\n",
    "    \"\"\"For what number of attempts on average for 1000 approaches our algorithm guesses\n",
    "\n",
    "    Args:\n",
    "        rand_predict ([type]): guess function\n",
    "\n",
    "    Returns:\n",
    "        int: average number of attempts\n",
    "    \"\"\"\n",
    "    count_ls = []\n",
    "    random_array = np.random.randint(1, 101, size=1000)  # Мake a list of numbers\n",
    "\n",
    "    for number in random_array:\n",
    "        count_ls.append(rand_predict(number))\n",
    "\n",
    "    score = int(np.mean(count_ls))\n",
    "    print(f\"Your algorithm guesses the number in: {score} attempts on average\")\n",
    "    return score\n",
    "\n",
    "\n",
    "if __name__ == \"__main__\":\n",
    "    # Run\n",
    "    score_game(random_predict)\n"
   ]
  }
 ],
 "metadata": {
  "kernelspec": {
   "display_name": "Python 3 (ipykernel)",
   "language": "python",
   "name": "python3"
  },
  "language_info": {
   "codemirror_mode": {
    "name": "ipython",
    "version": 3
   },
   "file_extension": ".py",
   "mimetype": "text/x-python",
   "name": "python",
   "nbconvert_exporter": "python",
   "pygments_lexer": "ipython3",
   "version": "3.9.3"
  }
 },
 "nbformat": 4,
 "nbformat_minor": 1
}
